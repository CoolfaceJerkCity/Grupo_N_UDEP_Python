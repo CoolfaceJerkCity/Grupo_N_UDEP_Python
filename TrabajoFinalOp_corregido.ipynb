{
  "nbformat": 4,
  "nbformat_minor": 0,
  "metadata": {
    "colab": {
      "name": "TrabajoFinalOp_corregido.ipynb",
      "provenance": [],
      "collapsed_sections": [],
      "include_colab_link": true
    },
    "kernelspec": {
      "name": "python3",
      "display_name": "Python 3"
    },
    "language_info": {
      "name": "python"
    }
  },
  "cells": [
    {
      "cell_type": "markdown",
      "metadata": {
        "id": "view-in-github",
        "colab_type": "text"
      },
      "source": [
        "<a href=\"https://colab.research.google.com/github/CoolfaceJerkCity/Grupo_N_UDEP_Python/blob/main/TrabajoFinalOp_corregido.ipynb\" target=\"_parent\"><img src=\"https://colab.research.google.com/assets/colab-badge.svg\" alt=\"Open In Colab\"/></a>"
      ]
    },
    {
      "cell_type": "markdown",
      "source": [
        "##Importaciones"
      ],
      "metadata": {
        "id": "xEcTrylrALPB"
      }
    },
    {
      "cell_type": "code",
      "source": [
        "#General Libraries\n",
        "import numpy as np\n",
        "import pandas as pd \n",
        "from pandas import get_dummies\n",
        "\n",
        "# Statistic & Machine Learning Libraries\n",
        "from sklearn.model_selection import train_test_split, cross_val_score\n",
        "from sklearn.metrics import confusion_matrix, recall_score,precision_score, r2_score, mean_squared_error\n",
        "from sklearn.metrics import classification_report, accuracy_score, multilabel_confusion_matrix\n",
        "\n",
        "from sklearn.neighbors import KNeighborsClassifier\n",
        "from sklearn.linear_model import LogisticRegression\n",
        "from sklearn.ensemble import RandomForestClassifier\n",
        "from sklearn.svm import LinearSVC, SVC\n",
        "\n",
        "from sklearn.preprocessing import MinMaxScaler\n",
        "from sklearn.decomposition import PCA\n",
        "from sklearn.cluster import KMeans\n",
        "\n",
        "# Data Visualiztion Libraries\n",
        "import seaborn as sns\n",
        "from plotly.offline import init_notebook_mode, iplot\n",
        "init_notebook_mode(connected=True)\n",
        "import plotly.graph_objs as go\n",
        "import matplotlib.pyplot as plt\n",
        "\n",
        "\n",
        "#warnings\n",
        "from warnings import filterwarnings\n",
        "filterwarnings('ignore')\n",
        "separador = '='*100"
      ],
      "metadata": {
        "colab": {
          "base_uri": "https://localhost:8080/",
          "height": 17
        },
        "id": "EJ4LOmFS9w8j",
        "outputId": "32ee4038-0394-4761-cc0a-2748e646da5b"
      },
      "execution_count": null,
      "outputs": [
        {
          "output_type": "display_data",
          "data": {
            "text/html": [
              "        <script type=\"text/javascript\">\n",
              "        window.PlotlyConfig = {MathJaxConfig: 'local'};\n",
              "        if (window.MathJax) {MathJax.Hub.Config({SVG: {font: \"STIX-Web\"}});}\n",
              "        if (typeof require !== 'undefined') {\n",
              "        require.undef(\"plotly\");\n",
              "        requirejs.config({\n",
              "            paths: {\n",
              "                'plotly': ['https://cdn.plot.ly/plotly-2.8.3.min']\n",
              "            }\n",
              "        });\n",
              "        require(['plotly'], function(Plotly) {\n",
              "            window._Plotly = Plotly;\n",
              "        });\n",
              "        }\n",
              "        </script>\n",
              "        "
            ]
          },
          "metadata": {}
        }
      ]
    },
    {
      "cell_type": "markdown",
      "source": [
        "##Obteniendo la data"
      ],
      "metadata": {
        "id": "NTCyJeQc9oID"
      }
    },
    {
      "cell_type": "code",
      "source": [
        "df_stroke = pd.read_csv('https://raw.githubusercontent.com/CoolfaceJerkCity/Grupo_N_UDEP_Python/main/df_strokes_lbl_encoded.csv')\n",
        "df_stroke = df_stroke[:750]\n",
        "df_stroke.head()"
      ],
      "metadata": {
        "colab": {
          "base_uri": "https://localhost:8080/",
          "height": 206
        },
        "id": "_NwErNRlZ4gb",
        "outputId": "73252e82-0cf9-4496-d805-1edb520c23e8"
      },
      "execution_count": null,
      "outputs": [
        {
          "output_type": "execute_result",
          "data": {
            "text/html": [
              "\n",
              "  <div id=\"df-875cfa3f-3dc6-4a6f-ad9b-2eed5d1dc7ec\">\n",
              "    <div class=\"colab-df-container\">\n",
              "      <div>\n",
              "<style scoped>\n",
              "    .dataframe tbody tr th:only-of-type {\n",
              "        vertical-align: middle;\n",
              "    }\n",
              "\n",
              "    .dataframe tbody tr th {\n",
              "        vertical-align: top;\n",
              "    }\n",
              "\n",
              "    .dataframe thead th {\n",
              "        text-align: right;\n",
              "    }\n",
              "</style>\n",
              "<table border=\"1\" class=\"dataframe\">\n",
              "  <thead>\n",
              "    <tr style=\"text-align: right;\">\n",
              "      <th></th>\n",
              "      <th>gender</th>\n",
              "      <th>age</th>\n",
              "      <th>hypertension</th>\n",
              "      <th>heart_disease</th>\n",
              "      <th>ever_married</th>\n",
              "      <th>Residence_type</th>\n",
              "      <th>avg_glucose_level</th>\n",
              "      <th>bmi</th>\n",
              "      <th>smoking_status</th>\n",
              "      <th>stroke</th>\n",
              "    </tr>\n",
              "  </thead>\n",
              "  <tbody>\n",
              "    <tr>\n",
              "      <th>0</th>\n",
              "      <td>1</td>\n",
              "      <td>67.0</td>\n",
              "      <td>0</td>\n",
              "      <td>1</td>\n",
              "      <td>1</td>\n",
              "      <td>1</td>\n",
              "      <td>228.69</td>\n",
              "      <td>36.6</td>\n",
              "      <td>1</td>\n",
              "      <td>1</td>\n",
              "    </tr>\n",
              "    <tr>\n",
              "      <th>1</th>\n",
              "      <td>1</td>\n",
              "      <td>80.0</td>\n",
              "      <td>0</td>\n",
              "      <td>1</td>\n",
              "      <td>1</td>\n",
              "      <td>0</td>\n",
              "      <td>105.92</td>\n",
              "      <td>32.5</td>\n",
              "      <td>0</td>\n",
              "      <td>1</td>\n",
              "    </tr>\n",
              "    <tr>\n",
              "      <th>2</th>\n",
              "      <td>0</td>\n",
              "      <td>49.0</td>\n",
              "      <td>0</td>\n",
              "      <td>0</td>\n",
              "      <td>1</td>\n",
              "      <td>1</td>\n",
              "      <td>171.23</td>\n",
              "      <td>34.4</td>\n",
              "      <td>0</td>\n",
              "      <td>1</td>\n",
              "    </tr>\n",
              "    <tr>\n",
              "      <th>3</th>\n",
              "      <td>0</td>\n",
              "      <td>79.0</td>\n",
              "      <td>1</td>\n",
              "      <td>0</td>\n",
              "      <td>1</td>\n",
              "      <td>0</td>\n",
              "      <td>174.12</td>\n",
              "      <td>24.0</td>\n",
              "      <td>0</td>\n",
              "      <td>1</td>\n",
              "    </tr>\n",
              "    <tr>\n",
              "      <th>4</th>\n",
              "      <td>1</td>\n",
              "      <td>81.0</td>\n",
              "      <td>0</td>\n",
              "      <td>0</td>\n",
              "      <td>1</td>\n",
              "      <td>1</td>\n",
              "      <td>186.21</td>\n",
              "      <td>29.0</td>\n",
              "      <td>1</td>\n",
              "      <td>1</td>\n",
              "    </tr>\n",
              "  </tbody>\n",
              "</table>\n",
              "</div>\n",
              "      <button class=\"colab-df-convert\" onclick=\"convertToInteractive('df-875cfa3f-3dc6-4a6f-ad9b-2eed5d1dc7ec')\"\n",
              "              title=\"Convert this dataframe to an interactive table.\"\n",
              "              style=\"display:none;\">\n",
              "        \n",
              "  <svg xmlns=\"http://www.w3.org/2000/svg\" height=\"24px\"viewBox=\"0 0 24 24\"\n",
              "       width=\"24px\">\n",
              "    <path d=\"M0 0h24v24H0V0z\" fill=\"none\"/>\n",
              "    <path d=\"M18.56 5.44l.94 2.06.94-2.06 2.06-.94-2.06-.94-.94-2.06-.94 2.06-2.06.94zm-11 1L8.5 8.5l.94-2.06 2.06-.94-2.06-.94L8.5 2.5l-.94 2.06-2.06.94zm10 10l.94 2.06.94-2.06 2.06-.94-2.06-.94-.94-2.06-.94 2.06-2.06.94z\"/><path d=\"M17.41 7.96l-1.37-1.37c-.4-.4-.92-.59-1.43-.59-.52 0-1.04.2-1.43.59L10.3 9.45l-7.72 7.72c-.78.78-.78 2.05 0 2.83L4 21.41c.39.39.9.59 1.41.59.51 0 1.02-.2 1.41-.59l7.78-7.78 2.81-2.81c.8-.78.8-2.07 0-2.86zM5.41 20L4 18.59l7.72-7.72 1.47 1.35L5.41 20z\"/>\n",
              "  </svg>\n",
              "      </button>\n",
              "      \n",
              "  <style>\n",
              "    .colab-df-container {\n",
              "      display:flex;\n",
              "      flex-wrap:wrap;\n",
              "      gap: 12px;\n",
              "    }\n",
              "\n",
              "    .colab-df-convert {\n",
              "      background-color: #E8F0FE;\n",
              "      border: none;\n",
              "      border-radius: 50%;\n",
              "      cursor: pointer;\n",
              "      display: none;\n",
              "      fill: #1967D2;\n",
              "      height: 32px;\n",
              "      padding: 0 0 0 0;\n",
              "      width: 32px;\n",
              "    }\n",
              "\n",
              "    .colab-df-convert:hover {\n",
              "      background-color: #E2EBFA;\n",
              "      box-shadow: 0px 1px 2px rgba(60, 64, 67, 0.3), 0px 1px 3px 1px rgba(60, 64, 67, 0.15);\n",
              "      fill: #174EA6;\n",
              "    }\n",
              "\n",
              "    [theme=dark] .colab-df-convert {\n",
              "      background-color: #3B4455;\n",
              "      fill: #D2E3FC;\n",
              "    }\n",
              "\n",
              "    [theme=dark] .colab-df-convert:hover {\n",
              "      background-color: #434B5C;\n",
              "      box-shadow: 0px 1px 3px 1px rgba(0, 0, 0, 0.15);\n",
              "      filter: drop-shadow(0px 1px 2px rgba(0, 0, 0, 0.3));\n",
              "      fill: #FFFFFF;\n",
              "    }\n",
              "  </style>\n",
              "\n",
              "      <script>\n",
              "        const buttonEl =\n",
              "          document.querySelector('#df-875cfa3f-3dc6-4a6f-ad9b-2eed5d1dc7ec button.colab-df-convert');\n",
              "        buttonEl.style.display =\n",
              "          google.colab.kernel.accessAllowed ? 'block' : 'none';\n",
              "\n",
              "        async function convertToInteractive(key) {\n",
              "          const element = document.querySelector('#df-875cfa3f-3dc6-4a6f-ad9b-2eed5d1dc7ec');\n",
              "          const dataTable =\n",
              "            await google.colab.kernel.invokeFunction('convertToInteractive',\n",
              "                                                     [key], {});\n",
              "          if (!dataTable) return;\n",
              "\n",
              "          const docLinkHtml = 'Like what you see? Visit the ' +\n",
              "            '<a target=\"_blank\" href=https://colab.research.google.com/notebooks/data_table.ipynb>data table notebook</a>'\n",
              "            + ' to learn more about interactive tables.';\n",
              "          element.innerHTML = '';\n",
              "          dataTable['output_type'] = 'display_data';\n",
              "          await google.colab.output.renderOutput(dataTable, element);\n",
              "          const docLink = document.createElement('div');\n",
              "          docLink.innerHTML = docLinkHtml;\n",
              "          element.appendChild(docLink);\n",
              "        }\n",
              "      </script>\n",
              "    </div>\n",
              "  </div>\n",
              "  "
            ],
            "text/plain": [
              "   gender   age  hypertension  ...   bmi  smoking_status  stroke\n",
              "0       1  67.0             0  ...  36.6               1       1\n",
              "1       1  80.0             0  ...  32.5               0       1\n",
              "2       0  49.0             0  ...  34.4               0       1\n",
              "3       0  79.0             1  ...  24.0               0       1\n",
              "4       1  81.0             0  ...  29.0               1       1\n",
              "\n",
              "[5 rows x 10 columns]"
            ]
          },
          "metadata": {},
          "execution_count": 135
        }
      ]
    },
    {
      "cell_type": "markdown",
      "source": [
        "##Separando la data de x e y"
      ],
      "metadata": {
        "id": "gvKaCU_IaEHV"
      }
    },
    {
      "cell_type": "code",
      "source": [
        "X = np.array(df_stroke.drop(columns =['stroke']))\n",
        "y = np.array(df_stroke['stroke'])"
      ],
      "metadata": {
        "id": "fJdB2mbzaJsa"
      },
      "execution_count": null,
      "outputs": []
    },
    {
      "cell_type": "markdown",
      "source": [
        "##Entrenando el modelo"
      ],
      "metadata": {
        "id": "ouWV2Mmq-HZn"
      }
    },
    {
      "cell_type": "code",
      "source": [
        "from sklearn.model_selection import train_test_split as tts\n",
        "Xtrain, Xtest, ytrain, ytest = tts(X, y, test_size = 0.3, random_state = 42)"
      ],
      "metadata": {
        "id": "X3PViZ4EgAdX"
      },
      "execution_count": null,
      "outputs": []
    },
    {
      "cell_type": "markdown",
      "source": [
        "##Logistic Regression"
      ],
      "metadata": {
        "id": "-5lhxjAkI7bQ"
      }
    },
    {
      "cell_type": "code",
      "source": [
        "modeloLR = LogisticRegression(solver = \"liblinear\")\n",
        "modeloLR.fit(Xtrain, ytrain)"
      ],
      "metadata": {
        "colab": {
          "base_uri": "https://localhost:8080/"
        },
        "id": "NR_v_LLsKMH-",
        "outputId": "7b7f142c-a385-4b56-8d8a-2b2861c7e37a"
      },
      "execution_count": null,
      "outputs": [
        {
          "output_type": "execute_result",
          "data": {
            "text/plain": [
              "LogisticRegression(solver='liblinear')"
            ]
          },
          "metadata": {},
          "execution_count": 138
        }
      ]
    },
    {
      "cell_type": "code",
      "source": [
        "testscore_lr = accuracy_score(ytest, modeloLR.predict(Xtest))\n",
        "accuracy_score(ytest, modeloLR.predict(Xtest)) "
      ],
      "metadata": {
        "colab": {
          "base_uri": "https://localhost:8080/"
        },
        "id": "08JaOn98LF3D",
        "outputId": "7306030e-a39f-4c63-b75a-2f0a8f72acad"
      },
      "execution_count": null,
      "outputs": [
        {
          "output_type": "execute_result",
          "data": {
            "text/plain": [
              "0.7822222222222223"
            ]
          },
          "metadata": {},
          "execution_count": 139
        }
      ]
    },
    {
      "cell_type": "code",
      "source": [
        "crosscore_lr =cross_val_score(modeloLR, Xtest, ytest, cv = 10).mean() \n",
        "cross_val_score(modeloLR, Xtest, ytest, cv = 10).mean()"
      ],
      "metadata": {
        "colab": {
          "base_uri": "https://localhost:8080/"
        },
        "id": "iyWxDjFsLI6c",
        "outputId": "5ec9cce7-d966-442a-d177-9e5c6675bcb7"
      },
      "execution_count": null,
      "outputs": [
        {
          "output_type": "execute_result",
          "data": {
            "text/plain": [
              "0.7683794466403162"
            ]
          },
          "metadata": {},
          "execution_count": 140
        }
      ]
    },
    {
      "cell_type": "code",
      "source": [
        "###  Graficas Analiticas para Regresión Logística ###\n",
        "y_predict = modeloLR.predict(Xtest)\n",
        "Pca1=PCA(n_components=2)\n",
        "Pca1.fit(Xtest)\n",
        "Xpca1=Pca1.fit_transform(Xtest)\n",
        "\n",
        "print(\"Gráfica de 'xtest' y 'ytest'\")\n",
        "s=500\n",
        "GR_RL=plt.scatter(Xpca1[:,0],Xpca1[:,1],ytest)\n",
        "plt.show()\n",
        "print(\"*\"*100)\n",
        "print(\"Gráfica de 'xtest' con 'y de predicción'\")\n",
        "GR_RL2=plt.scatter(Xpca1[:,0],Xpca1[:,1],y_predict)\n",
        "plt.show()\n",
        "print(\"*\"*100)"
      ],
      "metadata": {
        "colab": {
          "base_uri": "https://localhost:8080/",
          "height": 582
        },
        "id": "8m9uWDr6bUru",
        "outputId": "b1b723d1-84ca-488b-848d-d4d67b35a80c"
      },
      "execution_count": null,
      "outputs": [
        {
          "output_type": "stream",
          "name": "stdout",
          "text": [
            "Grafica de 'xtest' y 'ytest'\n"
          ]
        },
        {
          "output_type": "display_data",
          "data": {
            "image/png": "[encoded data removed]",
            "text/plain": [
              "<Figure size 432x288 with 1 Axes>"
            ]
          },
          "metadata": {
            "needs_background": "light"
          }
        },
        {
          "output_type": "stream",
          "name": "stdout",
          "text": [
            "****************************************************************************************************\n",
            "Grafica de 'xtest' con 'y de predicción'\n"
          ]
        },
        {
          "output_type": "display_data",
          "data": {
            "image/png": "[encoded data removed]",
            "text/plain": [
              "<Figure size 432x288 with 1 Axes>"
            ]
          },
          "metadata": {
            "needs_background": "light"
          }
        },
        {
          "output_type": "stream",
          "name": "stdout",
          "text": [
            "****************************************************************************************************\n"
          ]
        }
      ]
    },
    {
      "cell_type": "markdown",
      "source": [
        "##KNN"
      ],
      "metadata": {
        "id": "VLOzHvS9m0Ys"
      }
    },
    {
      "cell_type": "code",
      "source": [
        "knn = KNeighborsClassifier(n_neighbors=14)\n",
        "knn_tuned = knn.fit(Xtrain, ytrain)\n",
        "knn_tuned.score(Xtest, ytest)"
      ],
      "metadata": {
        "colab": {
          "base_uri": "https://localhost:8080/"
        },
        "id": "Z-rXwEo6nKNo",
        "outputId": "bd83add4-8d08-41ad-f9ae-7f3c7e107ebc"
      },
      "execution_count": null,
      "outputs": [
        {
          "output_type": "execute_result",
          "data": {
            "text/plain": [
              "0.7022222222222222"
            ]
          },
          "metadata": {},
          "execution_count": 142
        }
      ]
    },
    {
      "cell_type": "code",
      "source": [
        "y_pred = knn_tuned.predict(Xtest)\n",
        "testscore_knn =accuracy_score(ytest, y_pred)"
      ],
      "metadata": {
        "id": "xfR0kG6iSwrO"
      },
      "execution_count": null,
      "outputs": []
    },
    {
      "cell_type": "code",
      "source": [
        "y_pred = knn_tuned.predict(Xtest)\n",
        "crosscore_knn=accuracy_score(ytest, y_pred)\n",
        "accuracy_score(ytest, y_pred) "
      ],
      "metadata": {
        "colab": {
          "base_uri": "https://localhost:8080/"
        },
        "id": "_46Tu92qnTLA",
        "outputId": "ee520017-a219-4919-e647-c4f00ce5a6f5"
      },
      "execution_count": null,
      "outputs": [
        {
          "output_type": "execute_result",
          "data": {
            "text/plain": [
              "0.7022222222222222"
            ]
          },
          "metadata": {},
          "execution_count": 144
        }
      ]
    },
    {
      "cell_type": "code",
      "source": [
        "###  Graficas Analiticas para KNN ###\n",
        "k_m2=KMeans(n_clusters=2)\n",
        "k_m2.fit(Xtest)\n",
        "label=k_m2.labels_\n",
        "\n",
        "Pca=PCA(n_components=2)\n",
        "Pca.fit(Xtest)\n",
        "Xpca=Pca.fit_transform(Xtest)\n",
        "#  Graficos\n",
        "print(\"Gráfica de 'xtest' y 'ytest'\")\n",
        "GR_KNN=plt.scatter(Xpca[:,0],Xpca[:,1],ytest,c = label)\n",
        "\n",
        "plt.show()\n",
        "print(\"*\"*100)\n",
        "print(\"Gráfica de 'xtest' con 'y de predicción'\")\n",
        "GR_KNN2=plt.scatter(Xpca[:,0],Xpca[:,1],y_pred,c = label)\n",
        "plt.show()\n",
        "print(\"*\"*100)"
      ],
      "metadata": {
        "colab": {
          "base_uri": "https://localhost:8080/",
          "height": 582
        },
        "id": "xPCuS6CubXo_",
        "outputId": "8d10ae1f-0281-4226-9e41-a26e4d94169d"
      },
      "execution_count": null,
      "outputs": [
        {
          "output_type": "stream",
          "name": "stdout",
          "text": [
            "Gráfica de 'xtest' y 'ytest'\n"
          ]
        },
        {
          "output_type": "display_data",
          "data": {
            "image/png": "[encoded data removed]",
            "text/plain": [
              "<Figure size 432x288 with 1 Axes>"
            ]
          },
          "metadata": {
            "needs_background": "light"
          }
        },
        {
          "output_type": "stream",
          "name": "stdout",
          "text": [
            "****************************************************************************************************\n",
            "Gráfica de 'xtest' con 'y de predicción'\n"
          ]
        },
        {
          "output_type": "display_data",
          "data": {
            "image/png": "[encoded data removed]",
            "text/plain": [
              "<Figure size 432x288 with 1 Axes>"
            ]
          },
          "metadata": {
            "needs_background": "light"
          }
        },
        {
          "output_type": "stream",
          "name": "stdout",
          "text": [
            "****************************************************************************************************\n"
          ]
        }
      ]
    },
    {
      "cell_type": "markdown",
      "source": [
        "##SVC"
      ],
      "metadata": {
        "id": "Bo1i0VwpgICi"
      }
    },
    {
      "cell_type": "code",
      "source": [
        "svc_tuned = SVC(kernel = \"linear\", C = 1).fit(Xtrain, ytrain)\n",
        "y_pred = svc_tuned.predict(Xtest)\n",
        "crosscore_svm = accuracy_score(ytest, y_pred)"
      ],
      "metadata": {
        "id": "vwYZ00xkhQhF"
      },
      "execution_count": null,
      "outputs": []
    },
    {
      "cell_type": "code",
      "source": [
        "testscore_svm=accuracy_score(ytest, y_pred)\n",
        "accuracy_score(ytest, y_pred) #test acc"
      ],
      "metadata": {
        "colab": {
          "base_uri": "https://localhost:8080/"
        },
        "id": "d9nQUbZCRqcR",
        "outputId": "f6ae08b6-1797-4070-f6f1-02ac17c6d584"
      },
      "execution_count": null,
      "outputs": [
        {
          "output_type": "execute_result",
          "data": {
            "text/plain": [
              "0.7733333333333333"
            ]
          },
          "metadata": {},
          "execution_count": 147
        }
      ]
    },
    {
      "cell_type": "code",
      "source": [
        "##Gráfica Analítica SVC##\n",
        "#Recta para separar las clases##\n",
        "w= svc_tuned.coef_[0]\n",
        "a = -w[0] / w[1]\n",
        "xx = np.linspace(-1.5, 1.5)\n",
        "yy = a * xx - (svc_tuned.intercept_[0]) / w[1]\n",
        "# vectores\n",
        "b = svc_tuned.support_vectors_[0]\n",
        "yy_down = a * xx + (b[1] - a * b[0])\n",
        "b = svc_tuned.support_vectors_[-1]\n",
        "yy_up = a * xx + (b[1] - a * b[0])\n",
        "\n",
        "#Gráfica\n",
        "plt.plot(xx, yy, 'k-')\n",
        "plt.plot(xx, yy_down, 'k--')\n",
        "plt.plot(xx, yy_up, 'k--')\n",
        "\n",
        "plt.scatter(svc_tuned.support_vectors_[:, 0], svc_tuned.support_vectors_[:, 1],\n",
        " s=80, facecolors='none')\n",
        "plt.scatter(Xtest[:, 0], Xtest[:, 1], c=ytest, cmap=plt.cm.Paired)\n",
        "\n",
        "plt.title('Gráfica SVC ')\n",
        "plt.axis('tight')\n",
        "plt.show()"
      ],
      "metadata": {
        "colab": {
          "base_uri": "https://localhost:8080/",
          "height": 281
        },
        "id": "Ov7Y5PDEbb5J",
        "outputId": "448ed97a-490a-4e8c-bff4-616448208b0a"
      },
      "execution_count": null,
      "outputs": [
        {
          "output_type": "display_data",
          "data": {
            "image/png": "[encoded data removed]",
            "text/plain": [
              "<Figure size 432x288 with 1 Axes>"
            ]
          },
          "metadata": {
            "needs_background": "light"
          }
        }
      ]
    },
    {
      "cell_type": "markdown",
      "source": [
        "##Random Forest"
      ],
      "metadata": {
        "id": "4UqegfMSkiMt"
      }
    },
    {
      "cell_type": "code",
      "source": [
        "rf_tuned = RandomForestClassifier(max_depth = 5, max_features = 2, min_samples_split = 5, n_estimators = 5)\n",
        "rf_tuned.fit(Xtrain, ytrain)"
      ],
      "metadata": {
        "colab": {
          "base_uri": "https://localhost:8080/"
        },
        "id": "wOFFiWICkkA1",
        "outputId": "6fe51abc-c022-4f63-8859-afdc56211767"
      },
      "execution_count": null,
      "outputs": [
        {
          "output_type": "execute_result",
          "data": {
            "text/plain": [
              "RandomForestClassifier(max_depth=5, max_features=2, min_samples_split=5,\n",
              "                       n_estimators=5)"
            ]
          },
          "metadata": {},
          "execution_count": 149
        }
      ]
    },
    {
      "cell_type": "code",
      "source": [
        "y_pred = rf_tuned.predict(Xtest)\n",
        "testscore_rf=accuracy_score(ytest, y_pred)\n",
        "accuracy_score(ytest, y_pred)"
      ],
      "metadata": {
        "colab": {
          "base_uri": "https://localhost:8080/"
        },
        "id": "ZfzJI219SOQd",
        "outputId": "a04f04df-dde6-483a-9c01-b0ded9a9177a"
      },
      "execution_count": null,
      "outputs": [
        {
          "output_type": "execute_result",
          "data": {
            "text/plain": [
              "0.7466666666666667"
            ]
          },
          "metadata": {},
          "execution_count": 150
        }
      ]
    },
    {
      "cell_type": "code",
      "source": [
        "crosscore_rf=accuracy_score(ytest, y_pred)\n",
        "accuracy_score(ytest, y_pred)"
      ],
      "metadata": {
        "colab": {
          "base_uri": "https://localhost:8080/"
        },
        "id": "zGIzVVShlT1k",
        "outputId": "e4c9f648-c736-4335-89a4-5cceb9f4d666"
      },
      "execution_count": null,
      "outputs": [
        {
          "output_type": "execute_result",
          "data": {
            "text/plain": [
              "0.7466666666666667"
            ]
          },
          "metadata": {},
          "execution_count": 151
        }
      ]
    },
    {
      "cell_type": "code",
      "source": [
        "##Gráfica Analítica Random Forest##\n",
        "print(\"Histograma de la importancia de las variables\")\n",
        "plt.bar(range(len(rf_tuned.feature_importances_)), rf_tuned.feature_importances_)\n",
        "plt.show()"
      ],
      "metadata": {
        "colab": {
          "base_uri": "https://localhost:8080/",
          "height": 282
        },
        "id": "lGQA7nwabmeN",
        "outputId": "529f5c8b-eab9-41a3-92f2-184998d48009"
      },
      "execution_count": null,
      "outputs": [
        {
          "output_type": "stream",
          "name": "stdout",
          "text": [
            "Histograma de la importancia de las variables\n"
          ]
        },
        {
          "output_type": "display_data",
          "data": {
            "image/png": "[encoded data removed]",
            "text/plain": [
              "<Figure size 432x288 with 1 Axes>"
            ]
          },
          "metadata": {
            "needs_background": "light"
          }
        }
      ]
    },
    {
      "cell_type": "markdown",
      "source": [
        "##Funciones para validar datos"
      ],
      "metadata": {
        "id": "8JIQxLDR4z9r"
      }
    },
    {
      "cell_type": "code",
      "source": [
        "def lee_float():\n",
        "   while True:\n",
        "       entrada = input(\"Ingrese un valor: \")\n",
        "       try:\n",
        "           entrada = float(entrada)\n",
        "           return entrada\n",
        "       except ValueError:\n",
        "           print(separador)\n",
        "           print(\"Valor no válido\") \n",
        "\n",
        "\n",
        "def lee_float2():\n",
        "  #Float con rango de valores\n",
        "    while True:\n",
        "       entrada = input(\"Ingrese un valor: \")\n",
        "       try:\n",
        "         entrada = float(entrada)\n",
        "         if (1 <= float(entrada) <= 4):\n",
        "           return entrada\n",
        "         else:\n",
        "           print(\"Valor no válido\")\n",
        "       except ValueError:\n",
        "           print(separador)\n",
        "           print(\"Valor no válido\")\n",
        "\n",
        "def lee_floatbin():\n",
        "  #Float con rango de valores\n",
        "    while True:\n",
        "       entrada = input(\"Ingrese un valor: \")\n",
        "       try:\n",
        "         entrada = float(entrada)\n",
        "         if (0 <= float(entrada) <= 1):\n",
        "           return entrada\n",
        "         else:\n",
        "           print(\"Valor no válido\")\n",
        "       except ValueError:\n",
        "           print(separador)\n",
        "           print(\"Valor no válido\")"
      ],
      "metadata": {
        "id": "SwuNvhMMaiYa"
      },
      "execution_count": null,
      "outputs": []
    },
    {
      "cell_type": "markdown",
      "source": [
        "##Seleccionando el modelo"
      ],
      "metadata": {
        "id": "fqBP6xQfa5hF"
      }
    },
    {
      "cell_type": "code",
      "source": [
        "def seleccionamodelo(paciente):\n",
        "  #Panel de opciones\n",
        "  print('Ingrese el número de modelo que desea emplear')\n",
        "  print('1 para el modelo Logistic Regresion')\n",
        "  print('2 para el modelo KNN')\n",
        "  print('3 para modelo SVC')\n",
        "  print('4 para modelo Random Forest')\n",
        "  \n",
        "  #Opciones a ingresar\n",
        "\n",
        "  contador = 0\n",
        "  opciones = []\n",
        "  pregunta = 's'\n",
        "  \n",
        "  while pregunta == 'S' or pregunta == 's':\n",
        "    \n",
        "    if contador == 4:\n",
        "      break\n",
        "    \n",
        "    opciones.append(lee_float2())\n",
        "    pregunta = input('S para elegir un modelo adicional u otra tecla para salir: ')\n",
        "    contador +=1\n",
        "\n",
        "  print(opciones)\n",
        "  \n",
        "  #Ejecutar los modelos\n",
        "\n",
        "  for i in range(0,len(opciones)):\n",
        "    datos_paciente = pd.DataFrame(paciente)\n",
        "    \n",
        "    #Modelo Logistic regresion\n",
        "    if opciones[i] == 1:\n",
        "      prediction = modeloLR.predict(datos_paciente)         \n",
        "\n",
        "    #Modelo KNN\n",
        "    elif opciones[i] == 2:\n",
        "      prediction = knn_tuned.predict(datos_paciente)          \n",
        "    \n",
        "    #Modelo SVC\n",
        "    elif opciones[i] == 3:\n",
        "      prediction = svc_tuned.predict(datos_paciente)            \n",
        "    \n",
        "    #Modelo RF\n",
        "    elif opciones[i] == 4:\n",
        "      prediction = rf_tuned.predict(datos_paciente)     \n",
        "      \n",
        "    #Predicción \n",
        "    print(prediction) \n",
        "    \n",
        "    if prediction == 0:\n",
        "          print('Tiene bajo riesgo de sufrir un derrame')\n",
        "    else:\n",
        "          print('Tiene un riesgo elevado de sufrir un derrame')"
      ],
      "metadata": {
        "id": "Bimur04_a5o7"
      },
      "execution_count": null,
      "outputs": []
    },
    {
      "cell_type": "markdown",
      "source": [
        "##Main"
      ],
      "metadata": {
        "id": "gFppX-W8a9tb"
      }
    },
    {
      "cell_type": "code",
      "source": [
        "#Función para llenar datos\n",
        "def llenardatos():\n",
        "  info = []\n",
        "  global df_stroke\n",
        "  y = df_stroke[\"stroke\"] \n",
        "  X = df_stroke.drop([\"stroke\"], axis=1)\n",
        "  columnas = list(X.columns.values)\n",
        "  for i in range(0,len(columnas)):\n",
        "\n",
        "      if columnas[i]== 'gender':\n",
        "        print('Ingrese 1 si es hombre o 0 si es mujer')\n",
        "        info.append([lee_floatbin()])\n",
        "      \n",
        "      elif columnas[i]== 'age':\n",
        "        print('Ingrese su edad')\n",
        "        info.append([lee_float()])\n",
        "      \n",
        "      elif columnas[i]== 'hypertension':\n",
        "        print('Ingrese 1 si sufre de hipertensión o 0 si no es el caso')\n",
        "        info.append([lee_floatbin()])\n",
        "      \n",
        "      elif columnas[i]== 'heart_disease':\n",
        "        print('Ingrese 1 si sufre de enfermedades cardíacas o 0 si no es el caso')\n",
        "        info.append([lee_floatbin()])\n",
        "\n",
        "      elif columnas[i]== 'ever_married':\n",
        "        print('Ingrese 1 si se ha casado o 0 si no es el caso')\n",
        "        info.append([lee_floatbin()])\n",
        "      \n",
        "      elif columnas[i]== 'Residence_type':\n",
        "        print('Ingrese 1 si vive en la ciudad o 0 si no es el caso')\n",
        "        info.append([lee_floatbin()])\n",
        "      \n",
        "      elif columnas[i]== 'avg_glucose_level':\n",
        "        print('Ingrese su nivel de glucosa')\n",
        "        info.append([lee_float()])\n",
        "      \n",
        "      elif columnas[i]== 'bmi':\n",
        "        print('Ingrese su índice de masa corporal')\n",
        "        info.append([lee_float()])\n",
        "      \n",
        "      elif columnas[i]== 'smoking_status':\n",
        "        print('Ingrese 1 si fuma o si no es el caso')\n",
        "        info.append([lee_float()])\n",
        "      \n",
        "      print(separador)\n",
        "  \n",
        "  paciente = dict(zip(columnas,info))\n",
        "  print(paciente)\n",
        "  return paciente"
      ],
      "metadata": {
        "id": "bHqJmGOAwGl1"
      },
      "execution_count": null,
      "outputs": []
    },
    {
      "cell_type": "code",
      "source": [
        "#Patients ejemplo\n",
        "Patient1={'gender':[1],'age':[23],'hypertension':[1],'heart_disease':[1],'ever_married':[1],'residence_type':[1],\n",
        "          'avg_glucose_level':[250.00],'bmi':[22],'smoking_status':[0]}\n",
        "\n",
        "\n",
        "Patient2={'gender':[1],'age':[68],'hypertension':[1],'heart_disease':[1],'ever_married':[1],'residence_type':[1],\n",
        "          'avg_glucose_level':[221.67],'bmi':[28],'smoking_status':[1]}\n",
        "\n",
        "\n",
        "Patient3={'gender':[0],'age':[20],'hypertension':[0],'heart_disease':[0],'ever_married':[0],'residence_type':[1],\n",
        "          'avg_glucose_level':[87],'bmi':[19],'smoking_status':[0]}\n",
        "\n",
        "Patient4={'gender':[0],'age':[76],'hypertension':[1],'heart_disease':[1],'ever_married':[1],'residence_type':[1],\n",
        "          'avg_glucose_level':[155],'bmi':[31],'smoking_status':[1]}\n",
        "\n",
        "Patient5={'gender':[1],'age':[23],'hypertension':[1],'heart_disease':[1],'ever_married':[0],'residence_type':[0],\n",
        "          'avg_glucose_level':[167],'bmi':[31],'smoking_status':[0]}\n",
        "\n",
        "\n",
        "Patient6={'gender':[0],'age':[85],'hypertension':[0],'heart_disease':[0],'ever_married':[1],'residence_type':[0],\n",
        "          'avg_glucose_level':[90],'bmi':[21],'smoking_status':[0]}"
      ],
      "metadata": {
        "id": "RWNLtpSPQQWx"
      },
      "execution_count": null,
      "outputs": []
    },
    {
      "cell_type": "code",
      "source": [
        "def main():\n",
        "  print('Bienvenido al programa')\n",
        "  print('Ingrese los valores de las siguientes columnas: ')\n",
        "  paciente = llenardatos()\n",
        "  seleccionamodelo(paciente)\n",
        "\n",
        "main()"
      ],
      "metadata": {
        "colab": {
          "base_uri": "https://localhost:8080/"
        },
        "id": "iR6GRT9Ha_gM",
        "outputId": "686e16a1-bcc4-4e58-bff1-67dbf9874321"
      },
      "execution_count": null,
      "outputs": [
        {
          "output_type": "stream",
          "name": "stdout",
          "text": [
            "Bienvenido al programa\n",
            "Ingrese los valores de las siguientes columnas: \n",
            "Ingrese 1 si es hombre o 0 si es mujer\n",
            "Ingrese un valor: 1\n",
            "====================================================================================================\n",
            "Ingrese su edad\n",
            "Ingrese un valor: 68\n",
            "====================================================================================================\n",
            "Ingrese 1 si sufre de hipertensión o 0 si no es el caso\n",
            "Ingrese un valor: 1\n",
            "====================================================================================================\n",
            "Ingrese 1 si sufre de enfermedades cardíacas o 0 si no es el caso\n",
            "Ingrese un valor: 1\n",
            "====================================================================================================\n",
            "Ingrese 1 si se ha casado o 0 si no es el caso\n",
            "Ingrese un valor: 1\n",
            "====================================================================================================\n",
            "Ingrese 1 si vive en la ciudad o 0 si no es el caso\n",
            "Ingrese un valor: 1\n",
            "====================================================================================================\n",
            "Ingrese su nivel de glucosa\n",
            "Ingrese un valor: 221.67\n",
            "====================================================================================================\n",
            "Ingrese su índice de masa corporal\n",
            "Ingrese un valor: 28\n",
            "====================================================================================================\n",
            "Ingrese 1 si fuma o si no es el caso\n",
            "Ingrese un valor: 1\n",
            "====================================================================================================\n",
            "{'gender': [1.0], 'age': [68.0], 'hypertension': [1.0], 'heart_disease': [1.0], 'ever_married': [1.0], 'Residence_type': [1.0], 'avg_glucose_level': [221.67], 'bmi': [28.0], 'smoking_status': [1.0]}\n",
            "Ingrese el número de modelo que desea emplear\n",
            "1 para el modelo Logistic Regresion\n",
            "2 para el modelo KNN\n",
            "3 para modelo SVC\n",
            "4 para modelo Random Forest\n",
            "Ingrese un valor: 1\n",
            "S para elegir un modelo adicional u otra tecla para salir: s\n",
            "Ingrese un valor: 2\n",
            "S para elegir un modelo adicional u otra tecla para salir: s\n",
            "Ingrese un valor: 3\n",
            "S para elegir un modelo adicional u otra tecla para salir: s\n",
            "Ingrese un valor: 4\n",
            "S para elegir un modelo adicional u otra tecla para salir: s\n",
            "[1.0, 2.0, 3.0, 4.0]\n",
            "[1]\n",
            "Tiene un riesgo elevado de sufrir un derrame\n",
            "[1]\n",
            "Tiene un riesgo elevado de sufrir un derrame\n",
            "[1]\n",
            "Tiene un riesgo elevado de sufrir un derrame\n",
            "[1]\n",
            "Tiene un riesgo elevado de sufrir un derrame\n"
          ]
        }
      ]
    }
  ]
}